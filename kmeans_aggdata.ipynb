{
 "cells": [
  {
   "cell_type": "markdown",
   "metadata": {},
   "source": [
    "Project to test out usefulness of aggregated data when scaled given the high number\n",
    "of outliers in the data"
   ]
  },
  {
   "cell_type": "markdown",
   "metadata": {},
   "source": [
    "Import packages"
   ]
  },
  {
   "cell_type": "code",
   "execution_count": null,
   "metadata": {},
   "outputs": [],
   "source": [
    "import pandas as pd\n",
    "import numpy as numpy\n",
    "import seaborn as sns\n",
    "import matplotlib.pyplot as plt\n",
    "\n",
    "from mpl_toolkits.mplot3d import Axes3D\n",
    "from sklearn.preprocessing import StandardScaler\n",
    "from sklearn.metrics import silhouette_score\n",
    "from sklearn.cluster import KMeans\n",
    "\n",
    "import warnings\n",
    "warnings.filterwarnings('ignore')\n"
   ]
  },
  {
   "cell_type": "markdown",
   "metadata": {},
   "source": [
    "Make data more readable by limiting decimal places in floats and show all columns"
   ]
  },
  {
   "cell_type": "code",
   "execution_count": null,
   "metadata": {},
   "outputs": [],
   "source": [
    "pd.options.display.float_format = '{:20.2f}'.format\n",
    "pd.set_option('display.max_columns', 999)"
   ]
  },
  {
   "cell_type": "markdown",
   "metadata": {},
   "source": [
    "Load in and check the data"
   ]
  },
  {
   "cell_type": "code",
   "execution_count": null,
   "metadata": {},
   "outputs": [],
   "source": [
    "df = pd.read_csv(\"C:\\\\Users\\\\alexd\\\\Python Projects\\\\k_means/aggregated_data.csv\", encoding='ISO-8859-1')\n",
    "\n",
    "agg_df = df.copy()\n",
    "agg_df.head()"
   ]
  },
  {
   "cell_type": "markdown",
   "metadata": {},
   "source": [
    "Plot the aggregated data using boxplots"
   ]
  },
  {
   "cell_type": "code",
   "execution_count": null,
   "metadata": {},
   "outputs": [],
   "source": [
    "plt.figure(figsize=(15, 5))\n",
    "\n",
    "plt.subplot(1, 3, 1)\n",
    "sns.boxplot(data=agg_df['MonetaryValue'], color='lightgreen')\n",
    "plt.title('Monetary Value boxplot')\n",
    "plt.xlabel('Monetary Value')\n",
    "plt.ylabel('Count')\n",
    "\n",
    "plt.subplot(1, 3, 2)\n",
    "sns.boxplot(data=agg_df['Frequency'], color='skyblue')\n",
    "plt.title('Frequency boxplot')\n",
    "plt.xlabel('Frequency')\n",
    "plt.ylabel('Count')\n",
    "\n",
    "plt.subplot(1, 3, 3)\n",
    "sns.boxplot(data=agg_df['Recency'], color='salmon')\n",
    "plt.title('Recency')\n",
    "plt.xlabel('Recency')\n",
    "plt.ylabel('Count')\n",
    "\n",
    "plt.ticklabel_format()\n",
    "plt.show()"
   ]
  },
  {
   "cell_type": "markdown",
   "metadata": {},
   "source": [
    "The data in the boxplots is essentially unreadable as the monetary value and frequency boxplots are squished down at the bottom of the plot. This is due to both of those features having a large number of high ranking processes that appear as extreme outliers. Those are high value customers so they will not be dropped. We will attempt scaling the data to see if that brings it together better."
   ]
  },
  {
   "cell_type": "code",
   "execution_count": null,
   "metadata": {},
   "outputs": [],
   "source": [
    "import matplotlib.pyplot as plt\n",
    "from mpl_toolkits.mplot3d import Axes3D\n",
    "\n"
   ]
  },
  {
   "cell_type": "code",
   "execution_count": null,
   "metadata": {},
   "outputs": [],
   "source": [
    "# 3-D scatterplot the data to look at size of scale differences\n",
    "\n",
    "\n",
    "fig = plt.figure(figsize= (8, 8))\n",
    "\n",
    "ax = fig.add_subplot(projection='3d')\n",
    "\n",
    "scatter = ax.scatter(agg_df['MonetaryValue'], agg_df['Frequency'], agg_df['Recency'])\n",
    "\n",
    "ax.set_xlabel('Monetary Value')\n",
    "ax.set_ylabel('Frequency')\n",
    "ax.set_zlabel('Recency')\n",
    "\n",
    "ax.set_title('3-D Scatterplot of Aggregated Data')\n",
    "\n",
    "plt.show()\n",
    "\n",
    "\n"
   ]
  },
  {
   "cell_type": "markdown",
   "metadata": {},
   "source": [
    "The 3-D scatterplot confirms that the data is squished to the front lower left.\n",
    "The scaling for Frequency and Recency is comparable but Monetary Value is 1000x in scale"
   ]
  },
  {
   "cell_type": "markdown",
   "metadata": {},
   "source": [
    "First scaling to use is StandardScaler. StandardScaler transforms data to a mean of 0 and std dev of 1."
   ]
  },
  {
   "cell_type": "code",
   "execution_count": null,
   "metadata": {},
   "outputs": [],
   "source": [
    "scaler = StandardScaler()\n",
    "scaled_data = scaler.fit_transform(agg_df[['MonetaryValue', 'Frequency', 'Recency']])\n",
    "scaled_data"
   ]
  },
  {
   "cell_type": "code",
   "execution_count": null,
   "metadata": {},
   "outputs": [],
   "source": [
    "#scaled_data is returned a numpy array so it needs to be converted back to pandas\n",
    "\n",
    "scaled_data_df = pd.DataFrame(scaled_data, index=agg_df.index,\n",
    "                              columns=('MonetaryValue', 'Frequency', 'Recency'))\n",
    "scaled_data_df"
   ]
  },
  {
   "cell_type": "markdown",
   "metadata": {},
   "source": [
    "New 3-D scatterplot of scaled_data_df using StandardScaler"
   ]
  },
  {
   "cell_type": "code",
   "execution_count": null,
   "metadata": {},
   "outputs": [],
   "source": [
    "fig = plt.figure(figsize=(8, 8))\n",
    "\n",
    "ax = fig.add_subplot(projection=\"3d\")\n",
    "\n",
    "scatter = ax.scatter(scaled_data_df['MonetaryValue'], scaled_data_df['Frequency'], \n",
    "                     scaled_data_df['Recency'])\n",
    "\n",
    "ax.set_xlabel('Monetary Value')\n",
    "ax.set_ylabel('Frequency')\n",
    "ax.set_zlabel('Recency')\n",
    "\n",
    "ax.set_title('3-D Scatterplot of Std Scaled Customer Data')\n",
    "\n",
    "plt.show()"
   ]
  },
  {
   "cell_type": "markdown",
   "metadata": {},
   "source": [
    "The result of StandardScaler is not useful. The scaling is not standard and the data is still squished front, low left\n",
    "\n",
    "The second trial will be to use MinMax scaling"
   ]
  },
  {
   "cell_type": "code",
   "execution_count": null,
   "metadata": {},
   "outputs": [],
   "source": [
    "from sklearn.preprocessing import MinMaxScaler\n",
    "scaler = MinMaxScaler()\n",
    "scaled_data = scaler.fit_transform(agg_df[['MonetaryValue', 'Frequency', 'Recency']])\n",
    "scaled_data"
   ]
  },
  {
   "cell_type": "code",
   "execution_count": null,
   "metadata": {},
   "outputs": [],
   "source": [
    "mm_scaled_data_df = pd.DataFrame(scaled_data, index=agg_df.index,\n",
    "                                 columns=['MonetaryValue', 'Frequency', 'Recency'])\n",
    "mm_scaled_data_df"
   ]
  },
  {
   "cell_type": "code",
   "execution_count": null,
   "metadata": {},
   "outputs": [],
   "source": [
    "fig = plt.figure(figsize=(8, 8))\n",
    "\n",
    "ax = fig.add_subplot(projection=\"3d\")\n",
    "\n",
    "scatter = ax.scatter(mm_scaled_data_df['MonetaryValue'], mm_scaled_data_df['Frequency'], \n",
    "                     mm_scaled_data_df['Recency'])\n",
    "\n",
    "ax.set_xlabel('Monetary Value')\n",
    "ax.set_ylabel('Frequency')\n",
    "ax.set_zlabel('Recency')\n",
    "\n",
    "ax.set_title('3-D Scatterplot of MinMax Scaled Customer Data')\n",
    "\n",
    "plt.show()"
   ]
  },
  {
   "cell_type": "markdown",
   "metadata": {},
   "source": [
    "MinMax scaling is better but not sufficiently to use for analysis.\n",
    "Third attempt will be to use RobustScaler - this notionally takes into account severe outliers which is the situation\n",
    "here"
   ]
  },
  {
   "cell_type": "code",
   "execution_count": null,
   "metadata": {},
   "outputs": [],
   "source": [
    "from sklearn.preprocessing import RobustScaler\n",
    "\n",
    "scaler = RobustScaler()\n",
    "rs_scaled_data = scaler.fit_transform(agg_df[['MonetaryValue', 'Frequency', 'Recency']])\n",
    "rs_scaled_data"
   ]
  },
  {
   "cell_type": "code",
   "execution_count": null,
   "metadata": {},
   "outputs": [],
   "source": [
    "rs_scaled_data_df = pd.DataFrame(rs_scaled_data, index=agg_df.index,\n",
    "                                 columns=['MonetaryValue', 'Frequency', 'Recency'])\n",
    "\n",
    "rs_scaled_data_df"
   ]
  },
  {
   "cell_type": "markdown",
   "metadata": {},
   "source": [
    "3-D scatterplot of Customer Data using data scaled by RobustScaler"
   ]
  },
  {
   "cell_type": "code",
   "execution_count": null,
   "metadata": {},
   "outputs": [],
   "source": [
    "fig = plt.figure(figsize=(8, 8))\n",
    "\n",
    "ax = fig.add_subplot(projection=\"3d\")\n",
    "\n",
    "scatter = ax.scatter(rs_scaled_data_df['MonetaryValue'], rs_scaled_data_df['Frequency'], \n",
    "                     rs_scaled_data_df['Recency'])\n",
    "\n",
    "ax.set_xlabel('Monetary Value')\n",
    "ax.set_ylabel('Frequency')\n",
    "ax.set_zlabel('Recency')\n",
    "\n",
    "ax.set_title('3-D Scatterplot of RobustScaler Scaled Customer Data')\n",
    "\n",
    "plt.show()"
   ]
  },
  {
   "cell_type": "markdown",
   "metadata": {},
   "source": [
    "import numpy as np\n",
    "From co-pilot transform the monetaryvalue column using a log transformation\n",
    "df['MV'] = np.log1p(df['MV'])\n",
    "\n",
    "np.log1p handles 0s more elegantly\n",
    "\n",
    "copy agg_df to agg_log_df to try this out\n"
   ]
  },
  {
   "cell_type": "code",
   "execution_count": null,
   "metadata": {},
   "outputs": [],
   "source": [
    "selected_columns = ['MonetaryValue', 'Frequency', 'Recency']\n",
    "\n",
    "agg_log_df = agg_df[selected_columns].copy()\n",
    "\n",
    "import numpy as np\n",
    "agg_log_df['MonetaryValue'] = np.log1p(agg_log_df['MonetaryValue'])\n",
    "agg_log_df['Frequency'] = np.log1p(agg_log_df['Frequency'])\n",
    "agg_log_df['Recency'] = np.log1p(agg_log_df['Recency'])\n",
    "agg_log_df[['MonetaryValue', 'Frequency', 'Recency']]"
   ]
  },
  {
   "cell_type": "code",
   "execution_count": null,
   "metadata": {},
   "outputs": [],
   "source": [
    "fig = plt.figure(figsize= (8, 8))\n",
    "\n",
    "ax = fig.add_subplot(projection='3d')\n",
    "\n",
    "scatter = ax.scatter(agg_log_df['MonetaryValue'], agg_log_df['Frequency'], agg_log_df['Recency'])\n",
    "\n",
    "ax.set_xlabel('Monetary Value')\n",
    "ax.set_ylabel('Frequency')\n",
    "ax.set_zlabel('Recency')\n",
    "\n",
    "ax.set_title('3-D Scatterplot of Aggregated Data with Log Transformation')\n",
    "\n",
    "plt.show()"
   ]
  },
  {
   "cell_type": "markdown",
   "metadata": {},
   "source": [
    "KMneans clustering\n",
    "First run k from 2-12 to determine number of clusters\n",
    "Then run silhouette scores to find the correct number of clusters to use\n",
    "Re-run KMeans on this cluster value"
   ]
  },
  {
   "cell_type": "code",
   "execution_count": null,
   "metadata": {},
   "outputs": [],
   "source": [
    "max_k = 12\n",
    "\n",
    "inertia = []\n",
    "silhouette_scores = []\n",
    "k_values = range(2, max_k + 1)  # clusters range 2-12\n",
    "\n",
    "for k in k_values:\n",
    "    kmeans = KMeans(n_clusters=k, random_state=42, max_iter=1000)\n",
    "    cluster_labels = kmeans.fit_predict(agg_log_df)\n",
    "    sil_score = silhouette_score(agg_log_df, cluster_labels)\n",
    "    silhouette_scores.append(sil_score)\n",
    "    inertia.append(kmeans.inertia_)\n",
    "    \n",
    "plt.figure(figsize=(14, 6))\n",
    "\n",
    "plt.subplot(1, 2, 1)\n",
    "plt.plot(k_values, inertia, marker='o')\n",
    "plt.title('KMeans Inertia for Different Values of (k)')\n",
    "plt.xlabel('Number of Clusters (k)')\n",
    "plt.ylabel('Inertia')\n",
    "plt.xticks(k_values)\n",
    "plt.grid(True)\n",
    "\n",
    "plt.subplot(1, 2, 2)\n",
    "plt.plot(k_values, silhouette_scores, marker='o', color='orange')\n",
    "plt.title('Silhouette Scores for Different Values of (k)')\n",
    "plt.xlabel('Number of Clusters (k)')\n",
    "plt.ylabel('Silhouette Score')\n",
    "plt.xticks(k_values)\n",
    "plt.grid(True)\n",
    "\n",
    "plt.tight_layout()\n",
    "plt.show()"
   ]
  },
  {
   "cell_type": "markdown",
   "metadata": {},
   "source": [
    "The plots suggest that 4 is the optimal number of clusters and this is supported by the silhouette score\n",
    "Work the method to calulate the cluster ids and add new column for them to agg_df"
   ]
  },
  {
   "cell_type": "code",
   "execution_count": null,
   "metadata": {},
   "outputs": [],
   "source": [
    "kmeans = KMeans(n_clusters=4, random_state=42, max_iter=1000)\n",
    "cluster_labels = kmeans.fit_predict(agg_log_df)\n",
    "cluster_labels"
   ]
  },
  {
   "cell_type": "code",
   "execution_count": null,
   "metadata": {},
   "outputs": [],
   "source": [
    "agg_log_df['Cluster'] = cluster_labels\n",
    "agg_log_df"
   ]
  },
  {
   "cell_type": "markdown",
   "metadata": {},
   "source": [
    "3-D plot of clusters by colour mapping to visualizee the results"
   ]
  },
  {
   "cell_type": "code",
   "execution_count": null,
   "metadata": {},
   "outputs": [],
   "source": [
    "cluster_colors = {\n",
    "    0: '#1f77b4', # Blue\n",
    "    1: '#ff7f0e', # Orange\n",
    "    2: '#2ca02c', # Green\n",
    "    3: '#d62728', # Red\n",
    "}\n",
    "\n",
    "colors = agg_log_df['Cluster'].map(cluster_colors)\n",
    "\n",
    "fig = plt.figure(figsize=(10, 10))\n",
    "ax = fig.add_subplot(projection='3d')\n",
    "\n",
    "scatter = ax.scatter(agg_log_df['MonetaryValue'],\n",
    "                     agg_log_df['Frequency'],\n",
    "                     agg_log_df['Recency'],\n",
    "                     c=colors,\n",
    "                     marker = 'o')\n",
    "\n",
    "ax.set_xlabel('Monetary Value')\n",
    "ax.set_ylabel('Frequency')\n",
    "ax.set_zlabel('Recency')\n",
    "\n",
    "ax.set_title('3-D Scatterplot of Customer Data by Cluster')\n",
    "\n",
    "plt.show()"
   ]
  },
  {
   "cell_type": "markdown",
   "metadata": {},
   "source": [
    "Create violin plots of the clusters to determine placing for the 3 features.\n",
    "The gray feature in the plot is the raw data"
   ]
  },
  {
   "cell_type": "markdown",
   "metadata": {},
   "source": []
  },
  {
   "cell_type": "code",
   "execution_count": null,
   "metadata": {},
   "outputs": [],
   "source": [
    "plt.figure(figsize=(12, 18))\n",
    "\n",
    "plt.subplot( 3, 1, 1)\n",
    "sns.violinplot(x=agg_log_df['Cluster'], y=agg_log_df['MonetaryValue'], palette=cluster_colors,\n",
    "               hue=agg_log_df['Cluster'])\n",
    "sns.violinplot(agg_log_df['MonetaryValue'], color='gray', linewidth=1.0)\n",
    "plt.title('Monetary Value by Cluster')\n",
    "plt.ylabel('Monetary Value')\n",
    "\n",
    "plt.subplot( 3, 1, 2)\n",
    "sns.violinplot(x=agg_log_df['Cluster'], y=agg_log_df['Frequency'], palette=cluster_colors,\n",
    "               hue=agg_log_df['Cluster'])\n",
    "sns.violinplot(agg_log_df['Frequency'], color='gray', linewidth=1.0)\n",
    "plt.title('Frequency by Cluster')\n",
    "plt.ylabel('Frequency')\n",
    "\n",
    "plt.subplot( 3, 1, 3)\n",
    "sns.violinplot(x=agg_log_df['Cluster'], y=agg_log_df['Recency'], palette=cluster_colors,\n",
    "               hue=agg_log_df['Cluster'])\n",
    "sns.violinplot(agg_log_df['Recency'], color='gray', linewidth=1.0)\n",
    "plt.title('Recency by Cluster')\n",
    "plt.ylabel('Recency')\n",
    "\n",
    "plt.tight_layout()\n",
    "plt.show()"
   ]
  },
  {
   "cell_type": "code",
   "execution_count": 24,
   "metadata": {},
   "outputs": [],
   "source": [
    "agg_log_df.to_csv(\"C:\\\\Users\\\\alexd\\\\Python Projects\\\\k_means/agg_data_log_scaled.csv\", index=False, encoding='ISO-8859-1')"
   ]
  }
 ],
 "metadata": {
  "kernelspec": {
   "display_name": "Python 3",
   "language": "python",
   "name": "python3"
  },
  "language_info": {
   "codemirror_mode": {
    "name": "ipython",
    "version": 3
   },
   "file_extension": ".py",
   "mimetype": "text/x-python",
   "name": "python",
   "nbconvert_exporter": "python",
   "pygments_lexer": "ipython3",
   "version": "3.10.3"
  }
 },
 "nbformat": 4,
 "nbformat_minor": 2
}
